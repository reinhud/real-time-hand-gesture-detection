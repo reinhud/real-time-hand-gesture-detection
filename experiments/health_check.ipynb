{
 "cells": [
  {
   "cell_type": "code",
   "execution_count": 5,
   "metadata": {},
   "outputs": [],
   "source": [
    "import torch"
   ]
  },
  {
   "cell_type": "code",
   "execution_count": 13,
   "metadata": {},
   "outputs": [],
   "source": [
    "def check_pytorch_device():\n",
    "    # Check if GPU is available\n",
    "    if torch.cuda.is_available():\n",
    "        # Get the number of available GPUs\n",
    "        num_gpus = torch.cuda.device_count()\n",
    "        \n",
    "        # Create a list of GPU devices\n",
    "        devices = [torch.device(f\"cuda:{i}\") for i in range(num_gpus)]\n",
    "\n",
    "        # Display GPU information\n",
    "        print(f\"{num_gpus} GPU(s) are available!\")\n",
    "\n",
    "        for i, device in enumerate(devices):\n",
    "            print(f\"GPU {i}: {torch.cuda.get_device_name(i)}\")\n",
    "\n",
    "        print(f\"Using GPUs: {', '.join([str(i) for i in range(num_gpus)])}\")\n",
    "    else:\n",
    "        # If GPU is not available, fall back to CPU\n",
    "        device = torch.device(\"cpu\")\n",
    "        print(\"GPU is not available. Falling back to CPU.\")\n",
    "\n",
    "    # Display general PyTorch version and device information\n",
    "    print(f\"PyTorch version: {torch.__version__}\")\n",
    "    print(f\"Using device: {device}\")\n",
    "\n",
    "    # Additional information if GPU is available\n",
    "    if torch.cuda.is_available():\n",
    "        print(f\"CUDA version: {torch.version.cuda}\")\n",
    "        print(f\"CUDNN version: {torch.backends.cudnn.version()}\")\n",
    "    else:\n",
    "        print(\"No additional GPU information available.\")"
   ]
  },
  {
   "cell_type": "code",
   "execution_count": 14,
   "metadata": {},
   "outputs": [
    {
     "name": "stdout",
     "output_type": "stream",
     "text": [
      "GPU is not available. Falling back to CPU.\n",
      "PyTorch version: 2.1.0a0+32f93b1\n",
      "Using device: cpu\n",
      "No additional GPU information available.\n"
     ]
    }
   ],
   "source": [
    "check_pytorch_device()"
   ]
  }
 ],
 "metadata": {
  "kernelspec": {
   "display_name": "Python 3",
   "language": "python",
   "name": "python3"
  },
  "language_info": {
   "codemirror_mode": {
    "name": "ipython",
    "version": 3
   },
   "file_extension": ".py",
   "mimetype": "text/x-python",
   "name": "python",
   "nbconvert_exporter": "python",
   "pygments_lexer": "ipython3",
   "version": "3.10.12"
  }
 },
 "nbformat": 4,
 "nbformat_minor": 2
}
